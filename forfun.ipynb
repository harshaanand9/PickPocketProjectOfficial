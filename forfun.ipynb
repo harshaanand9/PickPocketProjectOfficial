from stats_getter import getLeagueDashTeamStats
from nba_api.stats.endpoints import BoxScoreAdvancedV2, LeagueDashTeamStats
from stats_getter import get_team_id, get_team_pt_shots
import features_loader_copy as ff
from nba_api.stats.endpoints import leaguedashteamstats, LeagueDashTeamShotLocations, TeamDashPtShots, HustleStatsBoxScore
import stats_getter as sg

# for season in seasons:
    # timeline = get_roster_timeline(season)
    # for team in TEAMS:
        # team_id = get_team_id(team)
        # dt = last game of season
        # roster = ff.roster_on_date(team_id=team_id, dt, timeline)
        # Obtain following attributes for each player in roster: 
        # 

from nba_api.stats.endpoints import synergyplaytypes
import pandas as pd

# Pick offensive team play types for 2024-25 regular season
play_types = [
    "Transition","Isolation","PRBallHandler","PRRollman","Spotup",
    "Handoff","Cut","OffScreen","OffRebound","Postup","Misc"
]

frames = []
for pt in play_types:
    res = synergyplaytypes.SynergyPlayTypes(
        play_type_nullable=pt,                 # one of the above strings
        player_or_team_abbreviation='T',           # 'T' for teams, 'P' for players
        type_grouping_nullable='Offensive',  # or 'Defensive'
        season='2024-25',
        season_type_all_star='Regular Season',
        per_mode_simple='Totals'      # or 'PerGame'
    ).get_data_frames()[0]
    frames.append(res[['TEAM_NAME','PLAY_TYPE','POSS','POSS_PCT','PPP']])

df = pd.concat(frames, ignore_index=True)

# Team-level distribution across play types (rows=teams, cols=play types, values = % of possessions)
dist = df.pivot_table(index='TEAM_NAME', columns='PLAY_TYPE', values='POSS_PCT', aggfunc='first')

# If you prefer counts instead of shares:
counts = df.pivot_table(index='TEAM_NAME', columns='PLAY_TYPE', values='POSS', aggfunc='first')

print(df)