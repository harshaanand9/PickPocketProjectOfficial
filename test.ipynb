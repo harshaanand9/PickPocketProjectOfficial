{
 "cells": [
  {
   "cell_type": "code",
   "execution_count": 1,
   "id": "19621fb4",
   "metadata": {},
   "outputs": [
    {
     "name": "stdout",
     "output_type": "stream",
     "text": [
      "      TEAM_ID               TEAM_NAME  GP   W   L  W_PCT     MIN  \\\n",
      "0  1610612757  Portland Trail Blazers  82  53  29  0.646  3971.0   \n",
      "\n",
      "   E_OFF_RATING  OFF_RATING  E_DEF_RATING  DEF_RATING  E_NET_RATING  \\\n",
      "0         111.4       113.7         108.1       109.5           3.3   \n",
      "\n",
      "   NET_RATING  AST_PCT  AST_TO  AST_RATIO  OREB_PCT  DREB_PCT  REB_PCT  \\\n",
      "0         4.2    0.544    1.66       16.6     0.308     0.739    0.526   \n",
      "\n",
      "   TM_TOV_PCT  EFG_PCT  TS_PCT  E_PACE   PACE  PACE_PER40  POSS    PIE  \\\n",
      "0       0.137    0.528   0.568   101.6  99.96        83.3  8269  0.521   \n",
      "\n",
      "   GP_RANK  W_RANK  L_RANK  W_PCT_RANK  MIN_RANK  OFF_RATING_RANK  \\\n",
      "0        1       1       1           1         1                1   \n",
      "\n",
      "   DEF_RATING_RANK  NET_RATING_RANK  AST_PCT_RANK  AST_TO_RANK  \\\n",
      "0                1                1             1            1   \n",
      "\n",
      "   AST_RATIO_RANK  OREB_PCT_RANK  DREB_PCT_RANK  REB_PCT_RANK  \\\n",
      "0               1              1              1             1   \n",
      "\n",
      "   TM_TOV_PCT_RANK  EFG_PCT_RANK  TS_PCT_RANK  PACE_RANK  PIE_RANK  \n",
      "0                1             1            1          1         1  \n"
     ]
    }
   ],
   "source": [
    "from stats_getter import getLeagueDashTeamStats\n",
    "from nba_api.stats.endpoints import BoxScoreAdvancedV2, LeagueDashTeamStats\n",
    "from stats_getter import get_team_id, get_team_pt_shots\n",
    "import features_loader_copy as ff\n",
    "from nba_api.stats.endpoints import leaguedashteamstats, LeagueDashTeamShotLocations, TeamDashPtShots, HustleStatsBoxScore\n",
    "import stats_getter as sg\n",
    "\n",
    "\n",
    "#print(ff.getB2B(\"Portland Trail Blazers\", \"2018-19\", \"11/21/2018\"))\n",
    "#print(sg.get_team_shot_locations(\"Portland Trail Blazers\", \"2018-19\", \"10/01/2018\", \"12/03/2018\", \"Base\", \"PerGame\"))\n",
    "#print(sg.get_league_game_log(\"2018-19\").head())\n",
    "print(getLeagueDashTeamStats(\"Portland Trail Blazers\", \"2018-19\", \"10/01/2018\", \"05/05/2019\", \"Advanced\", \"PerGame\"))"
   ]
  },
  {
   "cell_type": "code",
   "execution_count": null,
   "id": "30f513ae",
   "metadata": {},
   "outputs": [],
   "source": []
  }
 ],
 "metadata": {
  "kernelspec": {
   "display_name": "Python 3",
   "language": "python",
   "name": "python3"
  },
  "language_info": {
   "codemirror_mode": {
    "name": "ipython",
    "version": 3
   },
   "file_extension": ".py",
   "mimetype": "text/x-python",
   "name": "python",
   "nbconvert_exporter": "python",
   "pygments_lexer": "ipython3",
   "version": "3.13.5"
  }
 },
 "nbformat": 4,
 "nbformat_minor": 5
}
