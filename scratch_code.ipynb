{
 "cells": [
  {
   "cell_type": "code",
   "execution_count": 13,
   "id": "1b706215",
   "metadata": {},
   "outputs": [
    {
     "name": "stdout",
     "output_type": "stream",
     "text": [
      "[PACE] Applied profile A: default=0.15s, jitter=0.08s, cooldown=1.5s; overrides={'LeagueGameLog': 0.35, 'LeagueDashTeamStats': 0.25, 'LeagueDashPlayerStats': 0.3, 'TeamDashPtShots': 0.48, 'LeagueDashTeamShotLocations': 0.48, 'LeagueHustleStatsTeam': 0.55}\n",
      "         OREB_PCT\n",
      "count  272.000000\n",
      "mean     0.039751\n",
      "std      0.093665\n",
      "min      0.001020\n",
      "25%      0.002610\n",
      "50%      0.003100\n",
      "75%      0.003755\n",
      "max      0.423077\n",
      "Rows with >1 values: 0\n",
      "Rows with NaN values: 0\n"
     ]
    }
   ],
   "source": [
    "import FourFactors_ledger\n",
    "from elo_team_ledger import get_ELO_home, get_ELO_away\n",
    "\n",
    "import features_loader_copy as fl \n",
    "import stats_getter as sg\n",
    "import importlib\n",
    "import advanced_ledger\n",
    "importlib.reload(fl)\n",
    "importlib.reload(advanced_ledger)\n",
    "import training_set_loader_copy as ts\n",
    "importlib.reload(ts)\n",
    "import FourFactors_ledger\n",
    "\n",
    "import shotloc_ptshot as sp \n",
    "importlib.reload(sp)\n",
    "import hustle_ledger\n",
    "\n",
    "from nba_api.stats.endpoints import BoxScoreAdvancedV2, BoxScoreHustleV2, LeagueDashTeamStats, LeagueDashTeamClutch\n",
    "\n",
    "timeline_curr = fl.build_team_roster_timeline(\"2015-16\")\n",
    "#print(fl.roster_on_date(\"Portland Trail Blazers\", \"10/19/2022\", timeline_curr))\n",
    "#print(fl.getTeam_PlayerAggregated_DREBSTOCK_on_date(\"Portland Trail Blazers\", \"10/21/2022\", \"2022-23\", timeline_curr))\n",
    "\n",
    "#print(get_ELO_home(\"Portland Trail Blazers\", \"Sacramento Kings\", \"11/08/2013\"))\n",
    "\n",
    "#print(sg.get_league_game_log(\"2019-20\").head()) \n",
    "\n",
    "#print(LeagueDashTeamStats(season=\"2018-19\", date_from_nullable=\"10/16/2018\", date_to_nullable=\"10/19/2018\", league_id_nullable=\"00\", measure_type_detailed_defense=\"Base\").get_data_frames()[0])\n",
    "\n",
    "#print(fl.getPFD(team_name=\"Boston Celtics\", team_season=\"2018-19\", date_str=\"10/20/2018\"))\n",
    "\n",
    "import advanced_ledger\n",
    "\n",
    "\n",
    "import pandas as pd\n",
    "\n",
    "import pandas as pd\n",
    "\n",
    "p = \"/Users/harsha/Desktop/PickPocketProjectOfficial/ledgers/four_factors_ledger/2013-14.parquet\"\n",
    "df = pd.read_parquet(p)\n",
    "\n",
    "# 1. Distribution of values (should all be in [0, 1])\n",
    "print(df[[\"OREB_PCT\"]].describe())\n",
    "\n",
    "# 2. Count rows where any of these > 1\n",
    "mask_high = (df[\"OREB_PCT\"] > 1)\n",
    "print(\"Rows with >1 values:\", mask_high.sum())\n",
    "\n",
    "# 3. Count rows where any of these are NaN\n",
    "mask_nan = df[[\"OREB_PCT\"]].isna().any(axis=1)\n",
    "print(\"Rows with NaN values:\", mask_nan.sum())\n",
    "\n",
    "\n"
   ]
  },
  {
   "cell_type": "code",
   "execution_count": null,
   "id": "74dead00",
   "metadata": {},
   "outputs": [],
   "source": []
  },
  {
   "cell_type": "code",
   "execution_count": null,
   "id": "b93af1b1",
   "metadata": {},
   "outputs": [],
   "source": []
  },
  {
   "cell_type": "code",
   "execution_count": null,
   "id": "2b37507e",
   "metadata": {},
   "outputs": [],
   "source": []
  }
 ],
 "metadata": {
  "kernelspec": {
   "display_name": "Python 3",
   "language": "python",
   "name": "python3"
  },
  "language_info": {
   "codemirror_mode": {
    "name": "ipython",
    "version": 3
   },
   "file_extension": ".py",
   "mimetype": "text/x-python",
   "name": "python",
   "nbconvert_exporter": "python",
   "pygments_lexer": "ipython3",
   "version": "3.13.5"
  }
 },
 "nbformat": 4,
 "nbformat_minor": 5
}
